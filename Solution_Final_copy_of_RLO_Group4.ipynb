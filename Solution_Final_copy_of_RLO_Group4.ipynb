{
  "nbformat": 4,
  "nbformat_minor": 0,
  "metadata": {
    "colab": {
      "provenance": []
    },
    "kernelspec": {
      "name": "python3",
      "display_name": "Python 3"
    },
    "language_info": {
      "name": "python"
    }
  },
  "cells": [
    {
      "cell_type": "markdown",
      "source": [
        "# Introduction"
      ],
      "metadata": {
        "id": "O2rDR5O_uewt"
      }
    },
    {
      "cell_type": "markdown",
      "source": [
        "####In this exercise, you will build the Password Game as shown [here](https://https://neal.fun/password-game/). Take a minute to familiarize yourself with the game to understand how it works. Rather than building the entire game from scratch, you will write some logic in Python to determine whether a password is **valid** or **invalid** based on each constraint. For example, if the constraint is that a valid password is at least 8 characters long, you will write `Boolean` logic that evaluates to True if the password meets this constraint (the length is `>= 8`) or False if the password does not meet this constraint (the length is `< 8`).\n"
      ],
      "metadata": {
        "id": "-2jYxjEjvMIx"
      }
    },
    {
      "cell_type": "markdown",
      "source": [
        "####For each password constraint, we have created a separate function. This will help make your code **modular**. Writing **modular** code is an important practice because it makes the program more organized, easier to read, and easier to debug."
      ],
      "metadata": {
        "id": "9oOUlqasctqJ"
      }
    },
    {
      "cell_type": "markdown",
      "source": [
        "####Notice that each function takes as input a string called `password` and returns a `Boolean` value based on whether the `password` is valid (True) or invalid (False). Take a look at the following function which checks whether a password has a length of at least 8"
      ],
      "metadata": {
        "id": "0HFxKWtydJxo"
      }
    },
    {
      "cell_type": "markdown",
      "source": [
        "###**Function 1** : This function checks whether the length of the password is at least 8.\n",
        "\n",
        "Run the following cell"
      ],
      "metadata": {
        "id": "JzxzpvxyLWux"
      }
    },
    {
      "cell_type": "code",
      "source": [
        "def check_length(password):\n",
        "  # Checks if the length of the password is greater than 8 and returns True or False depending on the result\n",
        "  #=================================================================\n",
        "  # Example code\n",
        "  if(len(password)>=8):\n",
        "    return True\n",
        "  else:\n",
        "    return False\n",
        "  #================================================================="
      ],
      "metadata": {
        "id": "UdmpfTMsu6Z9"
      },
      "execution_count": null,
      "outputs": []
    },
    {
      "cell_type": "markdown",
      "source": [
        "#### **Unit Testing**\n",
        "Another important aspect of programming is **unit testing**. The purpose of testing a program is to ensure that your code does what you intend. If you want to test a specific piece of your program, you will need to write some **unit tests**. When you run these tests, they run a \"unit\" of your program and compare its output with an expected output. This is exactly how the Autograder works on Gradescope. However, unit tests are not just used for grading purposes. They are incredibly valuable for evaluating and understanding your own program. They also help to identify bugs and prevent errors from happening in the future."
      ],
      "metadata": {
        "id": "5ghQuRLCev2F"
      }
    },
    {
      "cell_type": "markdown",
      "source": [
        "In this activity, you will have the chance to write your own **unit tests**. Specifically, you will test each function, which is its own \"unit\" of code. For each function that you test, you want to evaluate your function for different inputs and outputs. For example, you might want to make sure that a password with 10 characters gives the correct output of `True`. Similarly, you might want to check that a password with 3 characters gives the output of `False`. Each of these conditions that you want to evaluate is referred to as a **test case**. Each test case will **pass** if your program satisfies the expected condition and **fail** otherwise. Take a look at the following **test cases** for the function above, and run the following cell:"
      ],
      "metadata": {
        "id": "jBOS0kp4fZnw"
      }
    },
    {
      "cell_type": "code",
      "source": [
        "# This cell should not be modified.\n",
        "questions = {f\"{x}.{y}\": \"0\" for x in range(1, 7) for y in range(1,10)}\n",
        "\n",
        "# Some setup\n",
        "def run_test_case(expected, actual, id):\n",
        "  print(f\"Expected: {expected}, Got : {actual}\")\n",
        "  outcome = \"passed\" if expected == actual else \"failed\"\n",
        "  ct = 1 if outcome == \"passed\" else 0\n",
        "  questions[id] = f\"{questions[id]},{ct}\"\n",
        "  print(f\"Test {id} {outcome}\")\n",
        "\n",
        "\n",
        "## Example Test Cases\n",
        "# Case 1:\n",
        "#=================================================================\n",
        "valid_password = 'valid_password' # This has >= 8 characters\n",
        "#=================================================================\n",
        "run_test_case(True, check_length(valid_password), '1.1')\n",
        "\n",
        "# Case 2:\n",
        "#=================================================================\n",
        "invalid_password = 'invalid' # This has < 8 characters\n",
        "#=================================================================\n",
        "run_test_case(False, check_length(invalid_password), '1.2')"
      ],
      "metadata": {
        "colab": {
          "base_uri": "https://localhost:8080/"
        },
        "id": "kzPtE4ZVd2mA",
        "outputId": "e753af64-2335-42b4-eead-d48eae6b974a"
      },
      "execution_count": null,
      "outputs": [
        {
          "output_type": "stream",
          "name": "stdout",
          "text": [
            "Expected: True, Got : True\n",
            "Test 1.1 passed\n",
            "Expected: False, Got : False\n",
            "Test 1.2 passed\n"
          ]
        }
      ]
    },
    {
      "cell_type": "markdown",
      "source": [
        "###**Function 2**: This function should check whether the password contains a numerical digit (0,1,2,3,4,5,6,7,8,9)\n",
        "Fill in the function below (which should return a Boolean value)\n",
        "\n",
        "When you're finished, run the cell to save your work"
      ],
      "metadata": {
        "id": "TRzZFV3DjZuR"
      }
    },
    {
      "cell_type": "code",
      "source": [
        "def check_digit(password):\n",
        "  #=================================================================\n",
        "  for c in password:\n",
        "    if c.isdigit():\n",
        "      return True\n",
        "  return False\n",
        "  #================================================================="
      ],
      "metadata": {
        "id": "DT8tmIM_w4DB"
      },
      "execution_count": null,
      "outputs": []
    },
    {
      "cell_type": "markdown",
      "source": [
        "We have provided some example tests cases below. Run the next cell to check your code"
      ],
      "metadata": {
        "id": "exMytq7FirxV"
      }
    },
    {
      "cell_type": "code",
      "source": [
        "# Example Test Cases\n",
        "# Case 1:\n",
        "#=================================================================\n",
        "valid_password = 'yaydigits123' # Contains a numerical digit\n",
        "#=================================================================\n",
        "run_test_case(True, check_digit(valid_password), '2.1')\n",
        "# Case 2:\n",
        "#=================================================================\n",
        "invalid_password = 'nodigits' # Doesn't contain a numerical digit\n",
        "#=================================================================\n",
        "run_test_case(False, check_digit(invalid_password), '2.2')"
      ],
      "metadata": {
        "id": "04RJF3paipAh",
        "colab": {
          "base_uri": "https://localhost:8080/"
        },
        "outputId": "4588e385-c4c5-4ac7-fb1c-38c0a7011120"
      },
      "execution_count": null,
      "outputs": [
        {
          "output_type": "stream",
          "name": "stdout",
          "text": [
            "Expected: True, Got : True\n",
            "Test 2.1 passed\n",
            "Expected: False, Got : False\n",
            "Test 2.2 passed\n"
          ]
        }
      ]
    },
    {
      "cell_type": "markdown",
      "source": [
        "To become familiar with writing your own **unit tests**, try creating some test cases on your own. Replace the empty strings (`''`) with some example passwords that you would expect to evaluate to True and False. After that, run the cell to evaluate the test cases."
      ],
      "metadata": {
        "id": "bCJYI_A-i2jh"
      }
    },
    {
      "cell_type": "code",
      "source": [
        "#=================================================================\n",
        "valid_password = 'digits1' # Write your own test case that evaluates to True\n",
        "invalid_password = 'withoutdigits' # Write your own test case that evaluates to False\n",
        "#=================================================================\n",
        "run_test_case(expected=True, actual=check_digit(valid_password), id='2.3')\n",
        "run_test_case(expected=False, actual=check_digit(invalid_password), id='2.4')"
      ],
      "metadata": {
        "id": "PBwMykWMgQ04",
        "colab": {
          "base_uri": "https://localhost:8080/"
        },
        "outputId": "029b08b5-5d1b-4c5b-878f-14a4d8319712"
      },
      "execution_count": null,
      "outputs": [
        {
          "output_type": "stream",
          "name": "stdout",
          "text": [
            "Expected: True, Got : True\n",
            "Test 2.3 passed\n",
            "Expected: False, Got : False\n",
            "Test 2.4 passed\n"
          ]
        }
      ]
    },
    {
      "cell_type": "markdown",
      "source": [
        "###**Function 3** : This function should check that the password contains at least one uppercase letter.\n",
        "\n",
        "Fill in the function below, and run the cell when you're finished"
      ],
      "metadata": {
        "id": "aFqxzyKHL_zD"
      }
    },
    {
      "cell_type": "code",
      "source": [
        "def check_uppercase(password):\n",
        "  #=================================================================\n",
        "  for c in password:\n",
        "    if c.isupper():\n",
        "      return True\n",
        "  return False\n",
        "  #=================================================================\n",
        "\n",
        "# Test Cases\n",
        "valid_password = 'vAlIDPaSsworD'\n",
        "invalid_password = 'invalid_password'\n",
        "run_test_case(expected=True, actual=check_uppercase(valid_password), id='3.1')\n",
        "run_test_case(expected=False, actual=check_uppercase(invalid_password), id='3.2')"
      ],
      "metadata": {
        "id": "mrYUzmzN1ASv",
        "colab": {
          "base_uri": "https://localhost:8080/"
        },
        "outputId": "f5f69997-2c43-4b24-9908-ad0914c66fef"
      },
      "execution_count": null,
      "outputs": [
        {
          "output_type": "stream",
          "name": "stdout",
          "text": [
            "Expected: True, Got : True\n",
            "Test 3.1 passed\n",
            "Expected: False, Got : False\n",
            "Test 3.2 passed\n"
          ]
        }
      ]
    },
    {
      "cell_type": "markdown",
      "source": [
        "Try writing some of your own test cases (just assign strings to `valid_password` and `invalid_password` evaluate to True and False, respectively). Then, run the cell when you're finished"
      ],
      "metadata": {
        "id": "KoPp-crWaGaN"
      }
    },
    {
      "cell_type": "code",
      "source": [
        "#=================================================================\n",
        "valid_password = 'vaLid' # Write your own test case that evaluates to True\n",
        "invalid_password = 'invalid' # Write your own test case that evaluates to False\n",
        "#=================================================================\n",
        "run_test_case(expected=True, actual=check_uppercase(valid_password), id='3.3')\n",
        "run_test_case(expected=False, actual=check_uppercase(invalid_password), id='3.4')"
      ],
      "metadata": {
        "id": "vbyJIA3wXhN7",
        "colab": {
          "base_uri": "https://localhost:8080/"
        },
        "outputId": "f517ef64-9fe6-45a1-db1a-20a6710f918d"
      },
      "execution_count": null,
      "outputs": [
        {
          "output_type": "stream",
          "name": "stdout",
          "text": [
            "Expected: True, Got : True\n",
            "Test 3.3 passed\n",
            "Expected: False, Got : False\n",
            "Test 3.4 passed\n"
          ]
        }
      ]
    },
    {
      "cell_type": "markdown",
      "source": [
        "###**Function 4** : This function checks weather all digits in the password sum upto 25. Again note the difference between numbers and digits.\n",
        "\n",
        "Fill in the function below, and run the cell when you're finished"
      ],
      "metadata": {
        "id": "uountTpgORBv"
      }
    },
    {
      "cell_type": "code",
      "source": [
        "def check_sum(password):\n",
        "  #=================================================================\n",
        "  s = 0\n",
        "  for p in password:\n",
        "    if(p.isdigit()):\n",
        "      s+=int(p)\n",
        "  if(s==25):\n",
        "    return True\n",
        "  return False\n",
        "\n",
        "  #=================================================================\n",
        "\n",
        "#Test Cases\n",
        "#Case 1:\n",
        "valid_password = 'CS119 class starts from 9:05am'\n",
        "#Case 2:\n",
        "invalid_password = 'CS119 class starts from 10:00am'\n",
        "\n",
        "run_test_case(expected=True, actual=check_sum(valid_password), id='4.1')\n",
        "run_test_case(expected=False, actual=check_sum(invalid_password), id='4.2')"
      ],
      "metadata": {
        "id": "LQxMxXHwOiIL",
        "colab": {
          "base_uri": "https://localhost:8080/"
        },
        "outputId": "d841126f-51e8-4983-81b2-2b727c0be723"
      },
      "execution_count": null,
      "outputs": [
        {
          "output_type": "stream",
          "name": "stdout",
          "text": [
            "Expected: True, Got : True\n",
            "Test 4.1 passed\n",
            "Expected: False, Got : False\n",
            "Test 4.2 passed\n"
          ]
        }
      ]
    },
    {
      "cell_type": "markdown",
      "source": [
        "Try writing some of your own test cases (just assign strings to valid_password and invalid_password evaluate to True and False, respectively). Then, run the cell when you're finished"
      ],
      "metadata": {
        "id": "0FBlxbQ-owNs"
      }
    },
    {
      "cell_type": "code",
      "source": [
        "#=================================================================\n",
        "valid_password = '55555' # Write your own test case that evaluates to True\n",
        "invalid_password = '5555' # Write your own test case that evaluates to False\n",
        "#=================================================================\n",
        "run_test_case(expected=True, actual=check_sum(valid_password), id='4.3')\n",
        "run_test_case(expected=False, actual=check_sum(invalid_password), id='4.4')"
      ],
      "metadata": {
        "id": "6AvHKFpcYpFT",
        "colab": {
          "base_uri": "https://localhost:8080/"
        },
        "outputId": "a43c7ffd-64d1-4717-84d6-cdc4edffb86b"
      },
      "execution_count": null,
      "outputs": [
        {
          "output_type": "stream",
          "name": "stdout",
          "text": [
            "Expected: True, Got : True\n",
            "Test 4.3 passed\n",
            "Expected: False, Got : False\n",
            "Test 4.4 passed\n"
          ]
        }
      ]
    },
    {
      "cell_type": "markdown",
      "source": [
        "###**Function 5** : This function checks whether the password has only even numbers. Note that we differentiate between digits and number. For example in the password \"test12test5test\", the numbers are '12' and '5', while the digits are '1', '2' and '5'.\n",
        "\n",
        "The following function has been filled for you and the test cases are provided. Does this mean that the function gives the intended output for each possible input? Does passing a given test case mean that the function returns the intended value for all possible inputs? Try playing around by trying different test cases to see if this always works."
      ],
      "metadata": {
        "id": "6MdgK3P_NWV9"
      }
    },
    {
      "cell_type": "code",
      "source": [
        "def check_even_numbers(password):\n",
        "  #=================================================================\n",
        "  for character in password: #extract a character from password\n",
        "    if(character.isdigit()): #check if the character is an integer\n",
        "      if int(character)%2!=0: #if the character is an integer then check if it is divisible by 2\n",
        "        return False\n",
        "  return True\n",
        "  #=================================================================\n",
        "\n",
        "#Test Cases\n",
        "#Case 1:\n",
        "valid_password = 'Iate2burgersand4fries'\n",
        "#Case 2:\n",
        "invalid_password = 'Ihave1burgerand5fries'\n",
        "\n",
        "run_test_case(expected=True, actual=check_even_numbers(valid_password), id='5.1')\n",
        "run_test_case(expected=False, actual=check_even_numbers(invalid_password), id='5.2')"
      ],
      "metadata": {
        "colab": {
          "base_uri": "https://localhost:8080/"
        },
        "id": "dagpvsMBNzis",
        "outputId": "bfb4a383-f46f-460e-99f2-e18d2f80dda5"
      },
      "execution_count": null,
      "outputs": [
        {
          "output_type": "stream",
          "name": "stdout",
          "text": [
            "Expected: True, Got : True\n",
            "Test 5.1 passed\n",
            "Expected: False, Got : False\n",
            "Test 5.2 passed\n"
          ]
        }
      ]
    },
    {
      "cell_type": "markdown",
      "source": [
        "The answer to the above question is no!. A test-case may not be general enough to cover all possible edge cases and boundary condition. As an example, consider the following test-case for the above function."
      ],
      "metadata": {
        "id": "Hyvre7Gw_EyZ"
      }
    },
    {
      "cell_type": "code",
      "source": [
        "valid_password = '2dollarsand4cents'\n",
        "run_test_case(expected=True, actual=check_even_numbers(valid_password), id='5.3')\n",
        "valid_password = '2kittensattacked2humans'\n",
        "run_test_case(expected=True, actual=check_even_numbers(valid_password), id='5.4')\n",
        "valid_password = 'its16minutespast2'\n",
        "run_test_case(expected=True, actual=check_even_numbers(valid_password), id='5.5')\n",
        "valid_password = 'Ihave32pagesofreading'\n",
        "run_test_case(expected=True, actual=check_even_numbers(valid_password), id='5.6')"
      ],
      "metadata": {
        "colab": {
          "base_uri": "https://localhost:8080/"
        },
        "id": "Ech5Zhyc_uJb",
        "outputId": "9c3d5394-dc7b-4ace-ca9f-828e5e9e0be8"
      },
      "execution_count": null,
      "outputs": [
        {
          "output_type": "stream",
          "name": "stdout",
          "text": [
            "Expected: True, Got : True\n",
            "Test 5.3 passed\n",
            "Expected: True, Got : True\n",
            "Test 5.4 passed\n",
            "Expected: True, Got : False\n",
            "Test 5.5 failed\n",
            "Expected: True, Got : False\n",
            "Test 5.6 failed\n"
          ]
        }
      ]
    },
    {
      "cell_type": "markdown",
      "source": [
        "All the above test cases should have passed but the function fails to return the correct value for the latter 2. Do you notice any pattern and figure out the mistake in your function?\n",
        "\n",
        "The reason why the last 2 tests fail is because the function cannot handle password with consecutive digits (remember how we defined a number). We need to modify our function to not just be able to extract digits and check whether they are even, but if there are consecutive digits in the password it should treat them as a single number and check for evenness.\n",
        "\n",
        "This constitutes a very important lesson on designing test cases to check your functions. You should think of all possible combinations and edge cases for inputs where you function can fail and check against it. Try correcting our function now to handle consecutive digits. Hint : to do this you can use the findall function in the re library."
      ],
      "metadata": {
        "id": "H2OkWgH2A6n5"
      }
    },
    {
      "cell_type": "code",
      "source": [
        "import re\n",
        "\n",
        "def check_even_numbers_corrected(password):\n",
        "  #=================================================================\n",
        "  numbers = re.findall(r'\\d+', password) # Extract all consecutive digits as numbers\n",
        "\n",
        "  for num in numbers:\n",
        "    if int(num)%2!=0: # Check if each extracted number is even\n",
        "      return False\n",
        "\n",
        "  return True if len(numbers) > 0 else False\n",
        "  #=================================================================\n",
        "\n",
        "#lets check the function using the previously failed tests\n",
        "valid_password = 'its16minutespast2'\n",
        "run_test_case(expected=True, actual=check_even_numbers_corrected(valid_password), id='5.5')\n",
        "valid_password = 'Ihave32pagesofreading'\n",
        "run_test_case(expected=True, actual=check_even_numbers_corrected(valid_password), id='5.6')\n"
      ],
      "metadata": {
        "colab": {
          "base_uri": "https://localhost:8080/"
        },
        "id": "ktgdEA8yEjAZ",
        "outputId": "61da871c-1f48-444a-a16d-54706a2a697c"
      },
      "execution_count": null,
      "outputs": [
        {
          "output_type": "stream",
          "name": "stdout",
          "text": [
            "Expected: True, Got : True\n",
            "Test 5.5 passed\n",
            "Expected: True, Got : True\n",
            "Test 5.6 passed\n"
          ]
        }
      ]
    },
    {
      "cell_type": "markdown",
      "source": [
        "Both the numbers in the password, 2 and 12 are even and yet the test fails - the function returns the wrong output!"
      ],
      "metadata": {
        "id": "hxxrLvt7__AY"
      }
    },
    {
      "cell_type": "markdown",
      "source": [],
      "metadata": {
        "id": "Q_t_TsIf_5MO"
      }
    },
    {
      "cell_type": "markdown",
      "source": [
        "Try writing some of your own test cases (just assign strings to valid_password and invalid_password evaluate to True and False, respectively). Then, run the cell when you're finished"
      ],
      "metadata": {
        "id": "OCkMacQ3ou9G"
      }
    },
    {
      "cell_type": "code",
      "source": [
        "#=================================================================\n",
        "valid_password = '' # Write your own test case that evaluates to True\n",
        "invalid_password = '' # Write your own test case that evaluates to False\n",
        "#=================================================================\n",
        "run_test_case(expected=True, actual=check_even_numbers_corrected(valid_password), id='5.3')\n",
        "run_test_case(expected=False, actual=check_even_numbers_corrected(invalid_password), id='5.4')"
      ],
      "metadata": {
        "id": "pZwCUYaDYoCF",
        "colab": {
          "base_uri": "https://localhost:8080/"
        },
        "outputId": "493d4509-c7c4-4282-bebc-652dd44d1580"
      },
      "execution_count": null,
      "outputs": [
        {
          "output_type": "stream",
          "name": "stdout",
          "text": [
            "Expected: True, Got : False\n",
            "Test 5.3 failed\n",
            "Expected: False, Got : False\n",
            "Test 5.4 passed\n"
          ]
        }
      ]
    },
    {
      "cell_type": "markdown",
      "source": [
        "### **Bonus**\n",
        "###**Function 6** : This function must check that the password contains today's day of the week e.g Monday, Tuesday etc. You can use the [weekday](https://www.geeksforgeeks.org/weekday-function-of-datetime-date-class-in-python/) method from the [datetime](https://docs.python.org/3/library/datetime.html) library.\n",
        "\n",
        "Fill in the function below, and run the cell when you're finished"
      ],
      "metadata": {
        "id": "5AuxcgyKPTrn"
      }
    },
    {
      "cell_type": "code",
      "source": [
        "def check_day_of_week(password):\n",
        "  #=================================================================\n",
        "  return # Your code here\n",
        "  #=================================================================\n",
        "\n",
        "#Test Cases\n",
        "#Case 1:\n",
        "valid_password = 'IloveSundays'\n",
        "#Case 2:\n",
        "invalid_password = 'Iloveeveryday'\n",
        "\n",
        "run_test_case(expected=True, actual=check_day_of_week(valid_password), id='6.1')\n",
        "run_test_case(expected=False, actual=check_day_of_week(invalid_password), id='6.2')"
      ],
      "metadata": {
        "id": "BKsepV65PKrz",
        "colab": {
          "base_uri": "https://localhost:8080/"
        },
        "outputId": "e9d10e3a-3c4c-41f5-ce0e-329c0a9033e1"
      },
      "execution_count": null,
      "outputs": [
        {
          "output_type": "stream",
          "name": "stdout",
          "text": [
            "Expected: True, Got : None\n",
            "Test 6.1 failed\n",
            "Expected: False, Got : None\n",
            "Test 6.2 failed\n"
          ]
        }
      ]
    },
    {
      "cell_type": "markdown",
      "source": [
        "Try writing some of your own test cases (just assign strings to valid_password and invalid_password evaluate to True and False, respectively). Then, run the cell when you're finished"
      ],
      "metadata": {
        "id": "CTI8THVMoxqU"
      }
    },
    {
      "cell_type": "code",
      "source": [
        "#=================================================================\n",
        "valid_password = '' # Write your own test case that evaluates to True\n",
        "invalid_password = '' # Write your own test case that evaluates to False\n",
        "#=================================================================\n",
        "run_test_case(expected=True, actual=check_day_of_week(valid_password), id='6.3')\n",
        "run_test_case(expected=False, actual=check_day_of_week(invalid_password), id='6.4')"
      ],
      "metadata": {
        "id": "kb4j3TSkYqMi",
        "colab": {
          "base_uri": "https://localhost:8080/"
        },
        "outputId": "42b87bde-bdb5-438e-fa23-a47488265859"
      },
      "execution_count": null,
      "outputs": [
        {
          "output_type": "stream",
          "name": "stdout",
          "text": [
            "Expected: True, Got : None\n",
            "Test 6.3 failed\n",
            "Expected: False, Got : None\n",
            "Test 6.4 failed\n"
          ]
        }
      ]
    },
    {
      "cell_type": "markdown",
      "source": [
        "#### **Feedback**\n",
        "How was your experience? To record your attendance and provide feedback on what you learned today, please fill out the following Google form."
      ],
      "metadata": {
        "id": "kqhsY8SPrc2Z"
      }
    },
    {
      "cell_type": "code",
      "source": [
        "# -*- coding: utf-8 -*-\n",
        "!pip install selenium\n",
        "\n",
        "!apt-get update\n",
        "\n",
        "!apt-get install -y chromium-browser\n",
        "\n",
        "!apt install chromium-chromedriver\n",
        "\n",
        "!ls /usr/lib/chromium-browser/chromedriver"
      ],
      "metadata": {
        "colab": {
          "base_uri": "https://localhost:8080/"
        },
        "id": "gAbDPcNmFs6i",
        "outputId": "ea16b05b-15b2-416f-ca3a-cc52cd390a57"
      },
      "execution_count": null,
      "outputs": [
        {
          "output_type": "stream",
          "name": "stdout",
          "text": [
            "Collecting selenium\n",
            "  Downloading selenium-4.26.1-py3-none-any.whl.metadata (7.1 kB)\n",
            "Requirement already satisfied: urllib3<3,>=1.26 in /usr/local/lib/python3.10/dist-packages (from urllib3[socks]<3,>=1.26->selenium) (2.2.3)\n",
            "Collecting trio~=0.17 (from selenium)\n",
            "  Downloading trio-0.27.0-py3-none-any.whl.metadata (8.6 kB)\n",
            "Collecting trio-websocket~=0.9 (from selenium)\n",
            "  Downloading trio_websocket-0.11.1-py3-none-any.whl.metadata (4.7 kB)\n",
            "Requirement already satisfied: certifi>=2021.10.8 in /usr/local/lib/python3.10/dist-packages (from selenium) (2024.8.30)\n",
            "Requirement already satisfied: typing_extensions~=4.9 in /usr/local/lib/python3.10/dist-packages (from selenium) (4.12.2)\n",
            "Requirement already satisfied: websocket-client~=1.8 in /usr/local/lib/python3.10/dist-packages (from selenium) (1.8.0)\n",
            "Requirement already satisfied: attrs>=23.2.0 in /usr/local/lib/python3.10/dist-packages (from trio~=0.17->selenium) (24.2.0)\n",
            "Collecting sortedcontainers (from trio~=0.17->selenium)\n",
            "  Downloading sortedcontainers-2.4.0-py2.py3-none-any.whl.metadata (10 kB)\n",
            "Requirement already satisfied: idna in /usr/local/lib/python3.10/dist-packages (from trio~=0.17->selenium) (3.10)\n",
            "Collecting outcome (from trio~=0.17->selenium)\n",
            "  Downloading outcome-1.3.0.post0-py2.py3-none-any.whl.metadata (2.6 kB)\n",
            "Requirement already satisfied: sniffio>=1.3.0 in /usr/local/lib/python3.10/dist-packages (from trio~=0.17->selenium) (1.3.1)\n",
            "Requirement already satisfied: exceptiongroup in /usr/local/lib/python3.10/dist-packages (from trio~=0.17->selenium) (1.2.2)\n",
            "Collecting wsproto>=0.14 (from trio-websocket~=0.9->selenium)\n",
            "  Downloading wsproto-1.2.0-py3-none-any.whl.metadata (5.6 kB)\n",
            "Requirement already satisfied: pysocks!=1.5.7,<2.0,>=1.5.6 in /usr/local/lib/python3.10/dist-packages (from urllib3[socks]<3,>=1.26->selenium) (1.7.1)\n",
            "Requirement already satisfied: h11<1,>=0.9.0 in /usr/local/lib/python3.10/dist-packages (from wsproto>=0.14->trio-websocket~=0.9->selenium) (0.14.0)\n",
            "Downloading selenium-4.26.1-py3-none-any.whl (9.7 MB)\n",
            "\u001b[2K   \u001b[90m━━━━━━━━━━━━━━━━━━━━━━━━━━━━━━━━━━━━━━━━\u001b[0m \u001b[32m9.7/9.7 MB\u001b[0m \u001b[31m19.2 MB/s\u001b[0m eta \u001b[36m0:00:00\u001b[0m\n",
            "\u001b[?25hDownloading trio-0.27.0-py3-none-any.whl (481 kB)\n",
            "\u001b[2K   \u001b[90m━━━━━━━━━━━━━━━━━━━━━━━━━━━━━━━━━━━━━━━━\u001b[0m \u001b[32m481.7/481.7 kB\u001b[0m \u001b[31m12.6 MB/s\u001b[0m eta \u001b[36m0:00:00\u001b[0m\n",
            "\u001b[?25hDownloading trio_websocket-0.11.1-py3-none-any.whl (17 kB)\n",
            "Downloading wsproto-1.2.0-py3-none-any.whl (24 kB)\n",
            "Downloading outcome-1.3.0.post0-py2.py3-none-any.whl (10 kB)\n",
            "Downloading sortedcontainers-2.4.0-py2.py3-none-any.whl (29 kB)\n",
            "Installing collected packages: sortedcontainers, wsproto, outcome, trio, trio-websocket, selenium\n",
            "Successfully installed outcome-1.3.0.post0 selenium-4.26.1 sortedcontainers-2.4.0 trio-0.27.0 trio-websocket-0.11.1 wsproto-1.2.0\n",
            "Get:1 https://cloud.r-project.org/bin/linux/ubuntu jammy-cran40/ InRelease [3,626 B]\n",
            "Get:2 https://developer.download.nvidia.com/compute/cuda/repos/ubuntu2204/x86_64  InRelease [1,581 B]\n",
            "Get:3 https://r2u.stat.illinois.edu/ubuntu jammy InRelease [6,555 B]\n",
            "Get:4 http://security.ubuntu.com/ubuntu jammy-security InRelease [129 kB]\n",
            "Hit:5 http://archive.ubuntu.com/ubuntu jammy InRelease\n",
            "Get:6 http://archive.ubuntu.com/ubuntu jammy-updates InRelease [128 kB]\n",
            "Hit:7 https://ppa.launchpadcontent.net/deadsnakes/ppa/ubuntu jammy InRelease\n",
            "Get:8 https://developer.download.nvidia.com/compute/cuda/repos/ubuntu2204/x86_64  Packages [1,113 kB]\n",
            "Hit:9 https://ppa.launchpadcontent.net/graphics-drivers/ppa/ubuntu jammy InRelease\n",
            "Hit:10 https://ppa.launchpadcontent.net/ubuntugis/ppa/ubuntu jammy InRelease\n",
            "Get:11 https://r2u.stat.illinois.edu/ubuntu jammy/main all Packages [8,482 kB]\n",
            "Get:12 http://archive.ubuntu.com/ubuntu jammy-backports InRelease [127 kB]\n",
            "Get:13 https://r2u.stat.illinois.edu/ubuntu jammy/main amd64 Packages [2,613 kB]\n",
            "Get:14 http://security.ubuntu.com/ubuntu jammy-security/main amd64 Packages [2,425 kB]\n",
            "Get:15 http://archive.ubuntu.com/ubuntu jammy-updates/main amd64 Packages [2,704 kB]\n",
            "Get:16 http://security.ubuntu.com/ubuntu jammy-security/universe amd64 Packages [1,165 kB]\n",
            "Get:17 http://archive.ubuntu.com/ubuntu jammy-updates/universe amd64 Packages [1,453 kB]\n",
            "Get:18 http://archive.ubuntu.com/ubuntu jammy-updates/restricted amd64 Packages [3,358 kB]\n",
            "Fetched 23.7 MB in 3s (6,815 kB/s)\n",
            "Reading package lists... Done\n",
            "W: Skipping acquire of configured file 'main/source/Sources' as repository 'https://r2u.stat.illinois.edu/ubuntu jammy InRelease' does not seem to provide it (sources.list entry misspelt?)\n",
            "Reading package lists... Done\n",
            "Building dependency tree... Done\n",
            "Reading state information... Done\n",
            "The following additional packages will be installed:\n",
            "  apparmor libfuse3-3 liblzo2-2 libudev1 snapd squashfs-tools systemd-hwe-hwdb udev\n",
            "Suggested packages:\n",
            "  apparmor-profiles-extra apparmor-utils fuse3 zenity | kdialog\n",
            "The following NEW packages will be installed:\n",
            "  apparmor chromium-browser libfuse3-3 liblzo2-2 snapd squashfs-tools systemd-hwe-hwdb udev\n",
            "The following packages will be upgraded:\n",
            "  libudev1\n",
            "1 upgraded, 8 newly installed, 0 to remove and 56 not upgraded.\n",
            "Need to get 29.0 MB of archives.\n",
            "After this operation, 120 MB of additional disk space will be used.\n",
            "Get:1 http://archive.ubuntu.com/ubuntu jammy-updates/main amd64 apparmor amd64 3.0.4-2ubuntu2.4 [598 kB]\n",
            "Get:2 http://archive.ubuntu.com/ubuntu jammy/main amd64 liblzo2-2 amd64 2.10-2build3 [53.7 kB]\n",
            "Get:3 http://archive.ubuntu.com/ubuntu jammy/main amd64 squashfs-tools amd64 1:4.5-3build1 [159 kB]\n",
            "Get:4 http://archive.ubuntu.com/ubuntu jammy-updates/main amd64 libudev1 amd64 249.11-0ubuntu3.12 [78.2 kB]\n",
            "Get:5 http://archive.ubuntu.com/ubuntu jammy-updates/main amd64 udev amd64 249.11-0ubuntu3.12 [1,557 kB]\n",
            "Get:6 http://archive.ubuntu.com/ubuntu jammy/main amd64 libfuse3-3 amd64 3.10.5-1build1 [81.2 kB]\n",
            "Get:7 http://archive.ubuntu.com/ubuntu jammy-updates/main amd64 snapd amd64 2.65.3+22.04 [26.4 MB]\n",
            "Get:8 http://archive.ubuntu.com/ubuntu jammy-updates/universe amd64 chromium-browser amd64 1:85.0.4183.83-0ubuntu2.22.04.1 [49.2 kB]\n",
            "Get:9 http://archive.ubuntu.com/ubuntu jammy-updates/main amd64 systemd-hwe-hwdb all 249.11.5 [3,228 B]\n",
            "Fetched 29.0 MB in 2s (14.3 MB/s)\n",
            "Preconfiguring packages ...\n",
            "Selecting previously unselected package apparmor.\n",
            "(Reading database ... 123629 files and directories currently installed.)\n",
            "Preparing to unpack .../apparmor_3.0.4-2ubuntu2.4_amd64.deb ...\n",
            "Unpacking apparmor (3.0.4-2ubuntu2.4) ...\n",
            "Selecting previously unselected package liblzo2-2:amd64.\n",
            "Preparing to unpack .../liblzo2-2_2.10-2build3_amd64.deb ...\n",
            "Unpacking liblzo2-2:amd64 (2.10-2build3) ...\n",
            "Selecting previously unselected package squashfs-tools.\n",
            "Preparing to unpack .../squashfs-tools_1%3a4.5-3build1_amd64.deb ...\n",
            "Unpacking squashfs-tools (1:4.5-3build1) ...\n",
            "Preparing to unpack .../libudev1_249.11-0ubuntu3.12_amd64.deb ...\n",
            "Unpacking libudev1:amd64 (249.11-0ubuntu3.12) over (249.11-0ubuntu3.10) ...\n",
            "Setting up libudev1:amd64 (249.11-0ubuntu3.12) ...\n",
            "Selecting previously unselected package udev.\n",
            "(Reading database ... 123837 files and directories currently installed.)\n",
            "Preparing to unpack .../udev_249.11-0ubuntu3.12_amd64.deb ...\n",
            "Unpacking udev (249.11-0ubuntu3.12) ...\n",
            "Selecting previously unselected package libfuse3-3:amd64.\n",
            "Preparing to unpack .../libfuse3-3_3.10.5-1build1_amd64.deb ...\n",
            "Unpacking libfuse3-3:amd64 (3.10.5-1build1) ...\n",
            "Selecting previously unselected package snapd.\n",
            "Preparing to unpack .../snapd_2.65.3+22.04_amd64.deb ...\n",
            "Unpacking snapd (2.65.3+22.04) ...\n",
            "Setting up apparmor (3.0.4-2ubuntu2.4) ...\n",
            "Created symlink /etc/systemd/system/sysinit.target.wants/apparmor.service → /lib/systemd/system/apparmor.service.\n",
            "Setting up liblzo2-2:amd64 (2.10-2build3) ...\n",
            "Setting up squashfs-tools (1:4.5-3build1) ...\n",
            "Setting up udev (249.11-0ubuntu3.12) ...\n",
            "invoke-rc.d: could not determine current runlevel\n",
            "invoke-rc.d: policy-rc.d denied execution of start.\n",
            "Setting up libfuse3-3:amd64 (3.10.5-1build1) ...\n",
            "Setting up snapd (2.65.3+22.04) ...\n",
            "Created symlink /etc/systemd/system/multi-user.target.wants/snapd.apparmor.service → /lib/systemd/system/snapd.apparmor.service.\n",
            "Created symlink /etc/systemd/system/multi-user.target.wants/snapd.autoimport.service → /lib/systemd/system/snapd.autoimport.service.\n",
            "Created symlink /etc/systemd/system/multi-user.target.wants/snapd.core-fixup.service → /lib/systemd/system/snapd.core-fixup.service.\n",
            "Created symlink /etc/systemd/system/multi-user.target.wants/snapd.recovery-chooser-trigger.service → /lib/systemd/system/snapd.recovery-chooser-trigger.service.\n",
            "Created symlink /etc/systemd/system/multi-user.target.wants/snapd.seeded.service → /lib/systemd/system/snapd.seeded.service.\n",
            "Created symlink /etc/systemd/system/cloud-final.service.wants/snapd.seeded.service → /lib/systemd/system/snapd.seeded.service.\n",
            "Unit /lib/systemd/system/snapd.seeded.service is added as a dependency to a non-existent unit cloud-final.service.\n",
            "Created symlink /etc/systemd/system/multi-user.target.wants/snapd.service → /lib/systemd/system/snapd.service.\n",
            "Created symlink /etc/systemd/system/timers.target.wants/snapd.snap-repair.timer → /lib/systemd/system/snapd.snap-repair.timer.\n",
            "Created symlink /etc/systemd/system/sockets.target.wants/snapd.socket → /lib/systemd/system/snapd.socket.\n",
            "Created symlink /etc/systemd/system/final.target.wants/snapd.system-shutdown.service → /lib/systemd/system/snapd.system-shutdown.service.\n",
            "Selecting previously unselected package chromium-browser.\n",
            "(Reading database ... 124066 files and directories currently installed.)\n",
            "Preparing to unpack .../chromium-browser_1%3a85.0.4183.83-0ubuntu2.22.04.1_amd64.deb ...\n",
            "=> Installing the chromium snap\n",
            "==> Checking connectivity with the snap store\n",
            "===> System doesn't have a working snapd, skipping\n",
            "Unpacking chromium-browser (1:85.0.4183.83-0ubuntu2.22.04.1) ...\n",
            "Selecting previously unselected package systemd-hwe-hwdb.\n",
            "Preparing to unpack .../systemd-hwe-hwdb_249.11.5_all.deb ...\n",
            "Unpacking systemd-hwe-hwdb (249.11.5) ...\n",
            "Setting up systemd-hwe-hwdb (249.11.5) ...\n",
            "Setting up chromium-browser (1:85.0.4183.83-0ubuntu2.22.04.1) ...\n",
            "update-alternatives: using /usr/bin/chromium-browser to provide /usr/bin/x-www-browser (x-www-browser) in auto mode\n",
            "update-alternatives: using /usr/bin/chromium-browser to provide /usr/bin/gnome-www-browser (gnome-www-browser) in auto mode\n",
            "Processing triggers for libc-bin (2.35-0ubuntu3.4) ...\n",
            "/sbin/ldconfig.real: /usr/local/lib/libtbbmalloc.so.2 is not a symbolic link\n",
            "\n",
            "/sbin/ldconfig.real: /usr/local/lib/libur_adapter_level_zero.so.0 is not a symbolic link\n",
            "\n",
            "/sbin/ldconfig.real: /usr/local/lib/libtbbbind_2_0.so.3 is not a symbolic link\n",
            "\n",
            "/sbin/ldconfig.real: /usr/local/lib/libtbbbind.so.3 is not a symbolic link\n",
            "\n",
            "/sbin/ldconfig.real: /usr/local/lib/libtcm_debug.so.1 is not a symbolic link\n",
            "\n",
            "/sbin/ldconfig.real: /usr/local/lib/libtbb.so.12 is not a symbolic link\n",
            "\n",
            "/sbin/ldconfig.real: /usr/local/lib/libur_loader.so.0 is not a symbolic link\n",
            "\n",
            "/sbin/ldconfig.real: /usr/local/lib/libtcm.so.1 is not a symbolic link\n",
            "\n",
            "/sbin/ldconfig.real: /usr/local/lib/libhwloc.so.15 is not a symbolic link\n",
            "\n",
            "/sbin/ldconfig.real: /usr/local/lib/libumf.so.0 is not a symbolic link\n",
            "\n",
            "/sbin/ldconfig.real: /usr/local/lib/libtbbmalloc_proxy.so.2 is not a symbolic link\n",
            "\n",
            "/sbin/ldconfig.real: /usr/local/lib/libur_adapter_opencl.so.0 is not a symbolic link\n",
            "\n",
            "/sbin/ldconfig.real: /usr/local/lib/libtbbbind_2_5.so.3 is not a symbolic link\n",
            "\n",
            "Processing triggers for man-db (2.10.2-1) ...\n",
            "Processing triggers for dbus (1.12.20-2ubuntu4.1) ...\n",
            "Processing triggers for udev (249.11-0ubuntu3.12) ...\n",
            "Processing triggers for hicolor-icon-theme (0.17-2) ...\n",
            "Reading package lists... Done\n",
            "Building dependency tree... Done\n",
            "Reading state information... Done\n",
            "The following NEW packages will be installed:\n",
            "  chromium-chromedriver\n",
            "0 upgraded, 1 newly installed, 0 to remove and 56 not upgraded.\n",
            "Need to get 2,308 B of archives.\n",
            "After this operation, 77.8 kB of additional disk space will be used.\n",
            "Get:1 http://archive.ubuntu.com/ubuntu jammy-updates/universe amd64 chromium-chromedriver amd64 1:85.0.4183.83-0ubuntu2.22.04.1 [2,308 B]\n",
            "Fetched 2,308 B in 0s (11.1 kB/s)\n",
            "Selecting previously unselected package chromium-chromedriver.\n",
            "(Reading database ... 124087 files and directories currently installed.)\n",
            "Preparing to unpack .../chromium-chromedriver_1%3a85.0.4183.83-0ubuntu2.22.04.1_amd64.deb ...\n",
            "Unpacking chromium-chromedriver (1:85.0.4183.83-0ubuntu2.22.04.1) ...\n",
            "Setting up chromium-chromedriver (1:85.0.4183.83-0ubuntu2.22.04.1) ...\n",
            "/usr/lib/chromium-browser/chromedriver\n"
          ]
        }
      ]
    },
    {
      "cell_type": "code",
      "source": [
        "#Record responses\n",
        "google_form = \"https://docs.google.com/forms/d/e/1FAIpQLSfcnOZuMmF-I4qpWFXxe_hTQMTzuVSqZbWvcmMxZGSCsRiHMw/viewform\"\n",
        "\n",
        "\n",
        "# Please fill in the feedback about this RLO project\n",
        "umass_email_id = \"solutions final copy\"\n",
        "assert umass_email_id != \"\"\n",
        "# feedback = \"Can work without errors!!\"\n",
        "# assert feedback != \"\""
      ],
      "metadata": {
        "id": "k-8CYv75EsKA"
      },
      "execution_count": null,
      "outputs": []
    },
    {
      "cell_type": "code",
      "source": [
        "\n",
        "#run this cell after completeing all above responses\n",
        "\n",
        "from selenium import webdriver\n",
        "from selenium.webdriver.chrome.service import Service\n",
        "from selenium.webdriver.common.by import By\n",
        "from selenium.webdriver.common.keys import Keys\n",
        "\n",
        "\n",
        "\n",
        "options = webdriver.ChromeOptions()\n",
        "options.add_argument(\"-incognito\")\n",
        "options.add_argument('--no-sandbox')\n",
        "options.add_argument('--headless')\n",
        "options.add_argument('--disable-gpu')\n",
        "options.add_argument('--disable-dve-shm-usage')\n",
        "\n",
        "# executable path for chromedriver\n",
        "service = Service(executable_path='/usr/lib/chromium-browser/chromedriver.exe')\n",
        "\n",
        "driver = webdriver.Chrome(options=options)\n",
        "\n",
        "response_history = \"\"\n",
        "for id in questions.keys() :\n",
        "  response_history = f\"{response_history}\\n{id},{questions[id]}\"\n",
        "\n",
        "\n",
        "X_path_map = {\n",
        "    \"feedback\" : '//*[@id=\"mG61Hd\"]/div[2]/div/div[2]/div[1]/div/div/div[2]/div/div[1]/div[2]/textarea',\n",
        "    \"response\" : '//*[@id=\"mG61Hd\"]/div[2]/div/div[2]/div[2]/div/div/div[2]/div/div[1]/div[2]/textarea',\n",
        "    \"email\" : '//*[@id=\"mG61Hd\"]/div[2]/div/div[2]/div[3]/div/div/div[2]/div/div[1]/div/div[1]/input',\n",
        "    \"button\" : '//*[@id=\"mG61Hd\"]/div[2]/div/div[3]/div[1]/div[1]/div/span/span'\n",
        "\n",
        "}\n",
        "\n",
        "\n",
        "# access the Google Form\n",
        "driver.get(google_form)\n",
        "# driver.switch_to.frame(0)\n",
        "# Xpath for response cell\n",
        "response_cell = driver.find_element(By.XPATH, X_path_map[\"response\"])\n",
        "# enter data from Excel file from corresponding column\n",
        "response_cell.send_keys(f\"{response_history}\")\n",
        "\n",
        "# Xpath for email cell\n",
        "email_cell = driver.find_element(By.XPATH, X_path_map['email'])\n",
        "# enter data from Excel file from corresponding column\n",
        "email_cell.send_keys(f\"{umass_email_id}\")\n",
        "\n",
        "\n",
        "# # Xpath for feedback cell\n",
        "# feedback_cell = driver.find_element(By.XPATH, X_path_map['feedback'])\n",
        "# # enter data from Excel file from corresponding column\n",
        "# feedback_cell.send_keys(feedback)\n",
        "\n",
        "# Xpath for submit button\n",
        "button = driver.find_element(By.XPATH, X_path_map['button'])\n",
        "# click on submit button\n",
        "button.click()\n",
        "\n"
      ],
      "metadata": {
        "id": "euAJ95-iGvwK"
      },
      "execution_count": null,
      "outputs": []
    },
    {
      "cell_type": "markdown",
      "source": [],
      "metadata": {
        "id": "mGt5sQxoSdKG"
      }
    }
  ]
}