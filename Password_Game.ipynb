{
  "nbformat": 4,
  "nbformat_minor": 0,
  "metadata": {
    "colab": {
      "provenance": []
    },
    "kernelspec": {
      "name": "python3",
      "display_name": "Python 3"
    },
    "language_info": {
      "name": "python"
    }
  },
  "cells": [
    {
      "cell_type": "markdown",
      "source": [
        "# Introduction"
      ],
      "metadata": {
        "id": "O2rDR5O_uewt"
      }
    },
    {
      "cell_type": "markdown",
      "source": [
        "####In this exercise, you will build the Password Game as shown [here](https://https://neal.fun/password-game/). Take a minute to familiarize yourself with the game to understand how it works. Rather than building the entire game from scratch, you will write some logic in Python to determine whether a password is **valid** or **invalid** based on each constraint. For example, if the constraint is that a valid password is at least 8 characters long, you will write `Boolean` logic that evaluates to True if the password meets this constraint (the length is `>= 8`) or False if the password does not meet this constraint (the length is `< 8`).\n"
      ],
      "metadata": {
        "id": "-2jYxjEjvMIx"
      }
    },
    {
      "cell_type": "markdown",
      "source": [
        "####For each password constraint, we have created a separate function. This will help make your code **modular**. Writing **modular** code is an important practice because it makes the program more organized, easier to read, and easier to debug."
      ],
      "metadata": {
        "id": "9oOUlqasctqJ"
      }
    },
    {
      "cell_type": "markdown",
      "source": [
        "####Notice that each function takes as input a string called `password` and returns a `Boolean` value based on whether the `password` is valid (True) or invalid (False). Take a look at the following function which checks whether a password has a length of at least 8"
      ],
      "metadata": {
        "id": "0HFxKWtydJxo"
      }
    },
    {
      "cell_type": "markdown",
      "source": [
        "###**Function 1** : This function checks whether the length of the password is at least 8.\n",
        "\n",
        "Run the following cell"
      ],
      "metadata": {
        "id": "JzxzpvxyLWux"
      }
    },
    {
      "cell_type": "code",
      "source": [
        "# This cell should not be modified.\n",
        "questions = {f\"{x}.{y}\": \"0\" for x in range(1, 7) for y in range(1,10)}\n",
        "\n",
        "def check_length(password):\n",
        "  # Checks if the length of the password is greater than 8 and returns True or False depending on the result\n",
        "  #=================================================================\n",
        "  # Example code\n",
        "  if(len(password)>=8):\n",
        "    return True\n",
        "  else:\n",
        "    return False\n",
        "  #================================================================="
      ],
      "metadata": {
        "id": "UdmpfTMsu6Z9"
      },
      "execution_count": null,
      "outputs": []
    },
    {
      "cell_type": "markdown",
      "source": [
        "#### **Unit Testing**\n",
        "Another important aspect of programming is **unit testing**. The purpose of testing a program is to ensure that your code does what you intend. If you want to test a specific piece of your program, you will need to write some **unit tests**. When you run these tests, they run a \"unit\" of your program and compare its output with an expected output. This is exactly how the Autograder works on Gradescope. However, unit tests are not just used for grading purposes. They are incredibly valuable for evaluating and understanding your own program. They also help to identify bugs and prevent errors from happening in the future."
      ],
      "metadata": {
        "id": "5ghQuRLCev2F"
      }
    },
    {
      "cell_type": "markdown",
      "source": [
        "In this activity, you will have the chance to write your own **unit tests**. Specifically, you will test each function, which is its own \"unit\" of code. For each function that you test, you want to evaluate your function for different inputs and outputs. For example, you might want to make sure that a password with 10 characters gives the correct output of `True`. Similarly, you might want to check that a password with 3 characters gives the output of `False`. Each of these conditions that you want to evaluate is referred to as a **test case**. Each test case will **pass** if your program satisfies the expected condition and **fail** otherwise. Take a look at the following **test cases** for the function above, and run the following cell:"
      ],
      "metadata": {
        "id": "jBOS0kp4fZnw"
      }
    },
    {
      "cell_type": "code",
      "source": [
        "# Some setup\n",
        "def run_test_case(expected, actual, id):\n",
        "  print(f\"Expected: {expected}, Got : {actual}\")\n",
        "  outcome = \"passed\" if expected == actual else \"failed\"\n",
        "  ct = 1 if outcome == \"passed\" else 0\n",
        "  questions[id] = f\"{questions[id]},{ct}\"\n",
        "  print(f\"Test {id} {outcome}\")\n",
        "\n",
        "\n",
        "## Example Test Cases\n",
        "# Case 1:\n",
        "#=================================================================\n",
        "valid_password = 'valid_password' # This has >= 8 characters\n",
        "#=================================================================\n",
        "run_test_case(True, check_length(valid_password), '1.1')\n",
        "\n",
        "# Case 2:\n",
        "#=================================================================\n",
        "invalid_password = 'invalid' # This has < 8 characters\n",
        "#=================================================================\n",
        "run_test_case(False, check_length(invalid_password), '1.2')"
      ],
      "metadata": {
        "id": "kzPtE4ZVd2mA"
      },
      "execution_count": null,
      "outputs": []
    },
    {
      "cell_type": "markdown",
      "source": [
        "###**Function 2**: This function should check whether the password contains a numerical digit (0,1,2,3,4,5,6,7,8,9)\n",
        "Fill in the function below (which should return a Boolean value)\n",
        "\n",
        "When you're finished, run the cell to save your work"
      ],
      "metadata": {
        "id": "TRzZFV3DjZuR"
      }
    },
    {
      "cell_type": "code",
      "source": [
        "def check_digit(password):\n",
        "  #=================================================================\n",
        "  return # Your code here\n",
        "  #================================================================="
      ],
      "metadata": {
        "id": "DT8tmIM_w4DB"
      },
      "execution_count": null,
      "outputs": []
    },
    {
      "cell_type": "markdown",
      "source": [
        "We have provided some example tests cases below. Run the next cell to check your code"
      ],
      "metadata": {
        "id": "exMytq7FirxV"
      }
    },
    {
      "cell_type": "code",
      "source": [
        "# Example Test Cases\n",
        "# Case 1:\n",
        "#=================================================================\n",
        "valid_password = 'yaydigits123' # Contains a numerical digit\n",
        "#=================================================================\n",
        "run_test_case(True, check_digit(valid_password), '2.1')\n",
        "# Case 2:\n",
        "#=================================================================\n",
        "invalid_password = 'nodigits' # Doesn't contain a numerical digit\n",
        "#=================================================================\n",
        "run_test_case(False, check_digit(invalid_password), '2.2')"
      ],
      "metadata": {
        "id": "04RJF3paipAh"
      },
      "execution_count": null,
      "outputs": []
    },
    {
      "cell_type": "markdown",
      "source": [
        "To become familiar with writing your own **unit tests**, try creating some test cases on your own. Replace the empty strings (`''`) with some example passwords that you would expect to evaluate to True and False. After that, run the cell to evaluate the test cases."
      ],
      "metadata": {
        "id": "bCJYI_A-i2jh"
      }
    },
    {
      "cell_type": "code",
      "source": [
        "#=================================================================\n",
        "valid_password = '' # Write your own test case that evaluates to True\n",
        "invalid_password = '' # Write your own test case that evaluates to False\n",
        "#=================================================================\n",
        "run_test_case(expected=True, actual=check_digit(valid_password), id='2.3')\n",
        "run_test_case(expected=False, actual=check_digit(invalid_password), id='2.4')"
      ],
      "metadata": {
        "id": "PBwMykWMgQ04"
      },
      "execution_count": null,
      "outputs": []
    },
    {
      "cell_type": "markdown",
      "source": [
        "###**Function 3** : This function should check that the password contains at least one uppercase letter.\n",
        "\n",
        "Fill in the function below, and run the cell when you're finished"
      ],
      "metadata": {
        "id": "aFqxzyKHL_zD"
      }
    },
    {
      "cell_type": "code",
      "source": [
        "def check_uppercase(password):\n",
        "  #=================================================================\n",
        "  return # Your code here\n",
        "  #=================================================================\n",
        "\n",
        "# Test Cases\n",
        "valid_password = 'vAlIDPaSsworD'\n",
        "invalid_password = 'invalid_password'\n",
        "run_test_case(expected=True, actual=check_uppercase(valid_password), id='3.1')\n",
        "run_test_case(expected=False, actual=check_uppercase(invalid_password), id='3.2')"
      ],
      "metadata": {
        "id": "mrYUzmzN1ASv"
      },
      "execution_count": null,
      "outputs": []
    },
    {
      "cell_type": "markdown",
      "source": [
        "Try writing some of your own test cases (just assign strings to `valid_password` and `invalid_password` evaluate to True and False, respectively). Then, run the cell when you're finished"
      ],
      "metadata": {
        "id": "KoPp-crWaGaN"
      }
    },
    {
      "cell_type": "code",
      "source": [
        "#=================================================================\n",
        "valid_password = '' # Write your own test case that evaluates to True\n",
        "invalid_password = '' # Write your own test case that evaluates to False\n",
        "#=================================================================\n",
        "run_test_case(expected=True, actual=check_uppercase(valid_password), id='3.3')\n",
        "run_test_case(expected=False, actual=check_uppercase(invalid_password), id='3.4')"
      ],
      "metadata": {
        "id": "vbyJIA3wXhN7"
      },
      "execution_count": null,
      "outputs": []
    },
    {
      "cell_type": "markdown",
      "source": [
        "###**Function 4** : This function checks weather all digits in the password sum upto 25. Again note the difference between numbers and digits.\n",
        "\n",
        "Fill in the function below, and run the cell when you're finished"
      ],
      "metadata": {
        "id": "uountTpgORBv"
      }
    },
    {
      "cell_type": "code",
      "source": [
        "def check_sum(password):\n",
        "  #=================================================================\n",
        "  return # Your code here\n",
        "  #=================================================================\n",
        "\n",
        "#Test Cases\n",
        "#Case 1:\n",
        "valid_password = 'CS119 class starts from 9:05am'\n",
        "#Case 2:\n",
        "invalid_password = 'CS119 class starts from 10:00am'\n",
        "\n",
        "run_test_case(expected=True, actual=check_sum(valid_password), id='4.1')\n",
        "run_test_case(expected=False, actual=check_sum(invalid_password), id='4.2')"
      ],
      "metadata": {
        "id": "LQxMxXHwOiIL"
      },
      "execution_count": null,
      "outputs": []
    },
    {
      "cell_type": "markdown",
      "source": [
        "Try writing some of your own test cases (just assign strings to valid_password and invalid_password evaluate to True and False, respectively). Then, run the cell when you're finished"
      ],
      "metadata": {
        "id": "0FBlxbQ-owNs"
      }
    },
    {
      "cell_type": "code",
      "source": [
        "#=================================================================\n",
        "valid_password = '' # Write your own test case that evaluates to True\n",
        "invalid_password = '' # Write your own test case that evaluates to False\n",
        "#=================================================================\n",
        "run_test_case(expected=True, actual=check_sum(valid_password), id='4.3')\n",
        "run_test_case(expected=False, actual=check_sum(invalid_password), id='4.4')"
      ],
      "metadata": {
        "id": "6AvHKFpcYpFT"
      },
      "execution_count": null,
      "outputs": []
    },
    {
      "cell_type": "markdown",
      "source": [
        "###**Function 5** : This function checks whether the password has only even numbers. Note that we differentiate between digits and number. For example in the password \"test12test5test\", the numbers are '12' and '5', while the digits are '1', '2' and '5'.\n",
        "\n",
        "The following function has been filled for you and the test cases are provided. Does this mean that the function gives the intended output for each possible input? Does passing a given test case mean that the function returns the intended value for all possible inputs? Try playing around by trying different test cases to see if this always works."
      ],
      "metadata": {
        "id": "6MdgK3P_NWV9"
      }
    },
    {
      "cell_type": "code",
      "source": [
        "def check_even_numbers(password):\n",
        "  #=================================================================\n",
        "  for character in password: #extract a character from password\n",
        "    if(character.isdigit()): #check if the character is an integer\n",
        "      if int(character)%2!=0: #if the character is an integer then check if it is divisible by 2\n",
        "        return False\n",
        "  return True\n",
        "  #=================================================================\n",
        "\n",
        "#Test Cases\n",
        "#Case 1:\n",
        "valid_password = 'Iate2burgersand4fries'\n",
        "#Case 2:\n",
        "invalid_password = 'Ihave1burgerand5fries'\n",
        "\n",
        "run_test_case(expected=True, actual=check_even_numbers(valid_password), id='5.1')\n",
        "run_test_case(expected=False, actual=check_even_numbers(invalid_password), id='5.2')"
      ],
      "metadata": {
        "id": "dagpvsMBNzis"
      },
      "execution_count": null,
      "outputs": []
    },
    {
      "cell_type": "markdown",
      "source": [
        "The answer to the above question is no!. A test-case may not be general enough to cover all possible edge cases and boundary condition. As an example, consider the following test-case for the above function."
      ],
      "metadata": {
        "id": "Hyvre7Gw_EyZ"
      }
    },
    {
      "cell_type": "code",
      "source": [
        "valid_password = '2dollarsand4cents'\n",
        "run_test_case(expected=True, actual=check_even_numbers(valid_password), id='5.3')\n",
        "valid_password = '2kittensattacked2humans'\n",
        "run_test_case(expected=True, actual=check_even_numbers(valid_password), id='5.4')\n",
        "valid_password = 'its16minutespast2'\n",
        "run_test_case(expected=True, actual=check_even_numbers(valid_password), id='5.5')\n",
        "valid_password = 'Ihave32pagesofreading'\n",
        "run_test_case(expected=True, actual=check_even_numbers(valid_password), id='5.6')"
      ],
      "metadata": {
        "id": "Ech5Zhyc_uJb"
      },
      "execution_count": null,
      "outputs": []
    },
    {
      "cell_type": "markdown",
      "source": [
        "All the above test cases should have passed but the function fails to return the correct value for the latter 2. Do you notice any pattern and figure out the mistake in your function?\n",
        "\n",
        "The reason why the last 2 tests fail is because the function cannot handle password with consecutive digits (remember how we defined a number). We need to modify our function to not just be able to extract digits and check whether they are even, but if there are consecutive digits in the password it should treat them as a single number and check for evenness.\n",
        "\n",
        "This constitutes a very important lesson on designing test cases to check your functions. You should think of all possible combinations and edge cases for inputs where you function can fail and check against it. Try correcting our function now to handle consecutive digits. Hint : To do this you can use the [findall](https://www.w3schools.com/python/python_regex.asp) function in the [re library](https://docs.python.org/3/library/re.html)."
      ],
      "metadata": {
        "id": "H2OkWgH2A6n5"
      }
    },
    {
      "cell_type": "code",
      "source": [
        "import re\n",
        "\n",
        "def check_even_numbers_corrected(password):\n",
        "  #=================================================================\n",
        "  #numbers = re.findall(r'\\d+', password) # Extract all consecutive digits as numbers\n",
        "\n",
        "  for num in numbers:\n",
        "    if int(num)%2!=0: # Check if each extracted number is even\n",
        "      return False\n",
        "\n",
        "  return True\n",
        "  #=================================================================\n",
        "\n",
        "#lets check the function using the previously failed tests\n",
        "valid_password = 'its16minutespast2'\n",
        "run_test_case(expected=True, actual=check_even_numbers_corrected(valid_password), id='5.5')\n",
        "valid_password = 'Ihave32pagesofreading'\n",
        "run_test_case(expected=True, actual=check_even_numbers_corrected(valid_password), id='5.6')\n"
      ],
      "metadata": {
        "id": "ktgdEA8yEjAZ"
      },
      "execution_count": null,
      "outputs": []
    },
    {
      "cell_type": "markdown",
      "source": [
        "Both the numbers in the password, 2 and 12 are even and yet the test fails - the function returns the wrong output!"
      ],
      "metadata": {
        "id": "hxxrLvt7__AY"
      }
    },
    {
      "cell_type": "markdown",
      "source": [],
      "metadata": {
        "id": "Q_t_TsIf_5MO"
      }
    },
    {
      "cell_type": "markdown",
      "source": [
        "Try writing some of your own test cases (just assign strings to valid_password and invalid_password evaluate to True and False, respectively). Then, run the cell when you're finished"
      ],
      "metadata": {
        "id": "OCkMacQ3ou9G"
      }
    },
    {
      "cell_type": "code",
      "source": [
        "#=================================================================\n",
        "valid_password = '' # Write your own test case that evaluates to True\n",
        "invalid_password = '' # Write your own test case that evaluates to False\n",
        "#=================================================================\n",
        "run_test_case(expected=True, actual=check_even_numbers(valid_password), id='5.3')\n",
        "run_test_case(expected=False, actual=check_even_numbers(invalid_password), id='5.4')"
      ],
      "metadata": {
        "id": "pZwCUYaDYoCF"
      },
      "execution_count": null,
      "outputs": []
    },
    {
      "cell_type": "markdown",
      "source": [
        "### **Bonus**\n",
        "###**Function 6** : This function must check that the password contains today's day of the week e.g Monday, Tuesday etc. You can use the [weekday](https://www.geeksforgeeks.org/weekday-function-of-datetime-date-class-in-python/) method from the [datetime](https://docs.python.org/3/library/datetime.html) library.\n",
        "\n",
        "Fill in the function below, and run the cell when you're finished"
      ],
      "metadata": {
        "id": "5AuxcgyKPTrn"
      }
    },
    {
      "cell_type": "code",
      "source": [
        "def check_day_of_week(password):\n",
        "  #=================================================================\n",
        "  return # Your code here\n",
        "  #=================================================================\n",
        "\n",
        "#Test Cases\n",
        "#Case 1:\n",
        "valid_password = 'IloveSundays'\n",
        "#Case 2:\n",
        "invalid_password = 'Iloveeveryday'\n",
        "\n",
        "run_test_case(expected=True, actual=check_day_of_week(valid_password), id='6.1')\n",
        "run_test_case(expected=False, actual=check_day_of_week(invalid_password), id='6.2')"
      ],
      "metadata": {
        "id": "BKsepV65PKrz"
      },
      "execution_count": null,
      "outputs": []
    },
    {
      "cell_type": "markdown",
      "source": [
        "Try writing some of your own test cases (just assign strings to valid_password and invalid_password evaluate to True and False, respectively). Then, run the cell when you're finished"
      ],
      "metadata": {
        "id": "CTI8THVMoxqU"
      }
    },
    {
      "cell_type": "code",
      "source": [
        "#=================================================================\n",
        "valid_password = '' # Write your own test case that evaluates to True\n",
        "invalid_password = '' # Write your own test case that evaluates to False\n",
        "#=================================================================\n",
        "run_test_case(expected=True, actual=check_day_of_week(valid_password), id='6.3')\n",
        "run_test_case(expected=False, actual=check_day_of_week(invalid_password), id='6.4')"
      ],
      "metadata": {
        "id": "kb4j3TSkYqMi"
      },
      "execution_count": null,
      "outputs": []
    },
    {
      "cell_type": "markdown",
      "source": [
        "#### **Save your Responses**\n",
        "Run the following three cells (just once) to record your response. Make sure to assign \"umass_email id\" with your UMass email address."
      ],
      "metadata": {
        "id": "kqhsY8SPrc2Z"
      }
    },
    {
      "cell_type": "code",
      "source": [
        "# -*- coding: utf-8 -*-\n",
        "\n",
        "!pip install selenium\n",
        "\n",
        "!apt-get update\n",
        "\n",
        "!apt-get install -y chromium-browser\n",
        "\n",
        "!apt install chromium-chromedriver\n",
        "\n",
        "!ls /usr/lib/chromium-browser/chromedriver"
      ],
      "metadata": {
        "id": "gAbDPcNmFs6i"
      },
      "execution_count": null,
      "outputs": []
    },
    {
      "cell_type": "code",
      "source": [
        "#Record responses\n",
        "google_form = \"https://docs.google.com/forms/d/e/1FAIpQLSfcnOZuMmF-I4qpWFXxe_hTQMTzuVSqZbWvcmMxZGSCsRiHMw/viewform\"\n",
        "\n",
        "\n",
        "# Please fill in the feedback about this RLO project\n",
        "umass_email_id = \"\"\n",
        "assert umass_email_id != \"\"\n",
        "# feedback = \"\"\n",
        "# assert feedback != \"\"\n",
        "\n"
      ],
      "metadata": {
        "id": "k-8CYv75EsKA"
      },
      "execution_count": null,
      "outputs": []
    },
    {
      "cell_type": "code",
      "source": [
        "\n",
        "#run this cell after completeing all above responses\n",
        "\n",
        "from selenium import webdriver\n",
        "from selenium.webdriver.chrome.service import Service\n",
        "from selenium.webdriver.common.by import By\n",
        "from selenium.webdriver.common.keys import Keys\n",
        "\n",
        "\n",
        "\n",
        "options = webdriver.ChromeOptions()\n",
        "options.add_argument(\"-incognito\")\n",
        "options.add_argument('--no-sandbox')\n",
        "options.add_argument('--headless')\n",
        "options.add_argument('--disable-gpu')\n",
        "options.add_argument('--disable-dve-shm-usage')\n",
        "\n",
        "# executable path for chromedriver\n",
        "service = Service(executable_path='/usr/lib/chromium-browser/chromedriver.exe')\n",
        "\n",
        "driver = webdriver.Chrome(options=options)\n",
        "\n",
        "response_history = \"\"\n",
        "for id in questions.keys() :\n",
        "  response_history = f\"{response_history}\\n{id},{questions[id]}\"\n",
        "\n",
        "\n",
        "X_path_map = {\n",
        "    \"feedback\" : '//*[@id=\"mG61Hd\"]/div[2]/div/div[2]/div[1]/div/div/div[2]/div/div[1]/div[2]/textarea',\n",
        "    \"response\" : '//*[@id=\"mG61Hd\"]/div[2]/div/div[2]/div[2]/div/div/div[2]/div/div[1]/div[2]/textarea',\n",
        "    \"email\" : '//*[@id=\"mG61Hd\"]/div[2]/div/div[2]/div[3]/div/div/div[2]/div/div[1]/div/div[1]/input',\n",
        "    \"button\" : '//*[@id=\"mG61Hd\"]/div[2]/div/div[3]/div[1]/div[1]/div/span/span'\n",
        "\n",
        "}\n",
        "\n",
        "\n",
        "# access the Google Form\n",
        "driver.get(google_form)\n",
        "# driver.switch_to.frame(0)\n",
        "# Xpath for response cell\n",
        "response_cell = driver.find_element(By.XPATH, X_path_map[\"response\"])\n",
        "# enter data from Excel file from corresponding column\n",
        "response_cell.send_keys(f\"{response_history}\")\n",
        "\n",
        "# Xpath for email cell\n",
        "email_cell = driver.find_element(By.XPATH, X_path_map['email'])\n",
        "# enter data from Excel file from corresponding column\n",
        "email_cell.send_keys(f\"{umass_email_id}\")\n",
        "\n",
        "\n",
        "# # Xpath for feedback cell\n",
        "# feedback_cell = driver.find_element(By.XPATH, X_path_map['feedback'])\n",
        "# # enter data from Excel file from corresponding column\n",
        "# feedback_cell.send_keys(feedback)\n",
        "\n",
        "# Xpath for submit button\n",
        "button = driver.find_element(By.XPATH, X_path_map['button'])\n",
        "# click on submit button\n",
        "button.click()\n",
        "\n"
      ],
      "metadata": {
        "id": "euAJ95-iGvwK"
      },
      "execution_count": null,
      "outputs": []
    },
    {
      "cell_type": "markdown",
      "source": [],
      "metadata": {
        "id": "mGt5sQxoSdKG"
      }
    }
  ]
}